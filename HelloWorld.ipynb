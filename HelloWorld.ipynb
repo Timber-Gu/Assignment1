{
 "cells": [
  {
   "cell_type": "markdown",
   "metadata": {
    "collapsed": true,
    "jupyter": {
     "outputs_hidden": true
    }
   },
   "source": "# My First Notebook"
  },
  {
   "metadata": {},
   "cell_type": "markdown",
   "source": [
    "# Get words for the MadLib game\n",
    "Type in words accordingly\n"
   ]
  },
  {
   "metadata": {
    "tags": [],
    "ExecuteTime": {
     "end_time": "2024-09-27T21:59:29.869798Z",
     "start_time": "2024-09-27T21:59:23.130723Z"
    }
   },
   "cell_type": "code",
   "source": [
    "print(\"To get your MadLib story, please provide the following words\")\n",
    "    \n",
    "noun1 = input(\"A boy's name: \")\n",
    "place = input(\"Place: \")\n",
    "adjective1 = input(\"Adjective: \")\n",
    "noun2 = input(\"Noun: \")\n",
    "adjective2 = input(\"Adjective: \")"
   ],
   "outputs": [
    {
     "name": "stdout",
     "output_type": "stream",
     "text": [
      "To get your MadLib story, please provide the following words\n"
     ]
    }
   ],
   "execution_count": 17
  },
  {
   "metadata": {},
   "cell_type": "markdown",
   "source": [
    "# Merge words to create a full story\n",
    "Use \"print\" to output the story to user"
   ]
  },
  {
   "metadata": {
    "ExecuteTime": {
     "end_time": "2024-09-27T21:59:37.760600Z",
     "start_time": "2024-09-27T21:59:37.757090Z"
    }
   },
   "cell_type": "code",
   "source": [
    "print(\"Once upon a time, there was a boy named\", noun1, \"who loved hiking.\")\n",
    "print(\"One day,\", noun1, \"decided to go to the\", place + \".\")\n",
    "print(\"Along the way,\", noun1, \"met a\", adjective1, noun2 + \".\")\n",
    "print(\"They both decided to go to\", place, \"together.\")\n",
    "print(\"By the time they were about to arrive at\", place, \"they both felt \", adjective2, \"So they decided to go home.\")\n"
   ],
   "outputs": [
    {
     "name": "stdout",
     "output_type": "stream",
     "text": [
      "Once upon a time, there was a boy named h who loved hiking.\n",
      "One day, h decided to go to the d.\n",
      "Along the way, h met a d d.\n",
      "They both decided to go to d together.\n",
      "By the time they were about to arrive at d they both felt  d So they decided to go home.\n"
     ]
    }
   ],
   "execution_count": 18
  }
 ],
 "metadata": {
  "kernelspec": {
   "display_name": "Python 3 (ipykernel)",
   "language": "python",
   "name": "python3"
  },
  "language_info": {
   "codemirror_mode": {
    "name": "ipython",
    "version": 3
   },
   "file_extension": ".py",
   "mimetype": "text/x-python",
   "name": "python",
   "nbconvert_exporter": "python",
   "pygments_lexer": "ipython3",
   "version": "3.9.7"
  }
 },
 "nbformat": 4,
 "nbformat_minor": 4
}
